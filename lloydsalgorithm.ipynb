{
 "cells": [
  {
   "cell_type": "code",
   "execution_count": 2,
   "metadata": {},
   "outputs": [],
   "source": [
    "import pandas as pd\n",
    "import numpy as np\n",
    "import seaborn as sns\n",
    "import sklearn\n",
    "import scipy"
   ]
  },
  {
   "cell_type": "code",
   "execution_count": 116,
   "metadata": {},
   "outputs": [],
   "source": [
    "points = []\n",
    "centroids = []\n",
    "num_points = 100\n",
    "num_centroids = 8\n",
    "e=0.01\n",
    "\n",
    "for i in range(num_points):\n",
    "    points.append(np.random.normal())\n",
    "for i in range(num_centroids):\n",
    "    centroids.append(np.random.normal())\n",
    "\n",
    "points = np.array(points)\n",
    "centroids = np.array(centroids)"
   ]
  },
  {
   "cell_type": "code",
   "execution_count": 117,
   "metadata": {},
   "outputs": [],
   "source": [
    "def grouping(point_array, centroid_array):\n",
    "    #grouping the centroids into groups\n",
    "    grouping = []\n",
    "    return_list = {}\n",
    "    centroid_array = np.sort(centroid_array)\n",
    "    for i in range(len(centroid_array)-1):\n",
    "        midpoint = (centroid_array[i]+centroid_array[i+1])/2\n",
    "        grouping.append(midpoint)\n",
    "    for i in range(len(grouping)+1):\n",
    "        if i ==0:\n",
    "            return_list[i] = point_array[np.where(point_array<grouping[i])]\n",
    "        if i == len(grouping):\n",
    "            return_list[i] = point_array[np.where(point_array>grouping[i-1])]\n",
    "        if i!=0 and i!= len(grouping):\n",
    "            return_list[i] = point_array[np.where(np.logical_and(point_array>grouping[i-1], point_array<grouping[i]))]\n",
    "        \n",
    "    return return_list"
   ]
  },
  {
   "cell_type": "code",
   "execution_count": 118,
   "metadata": {},
   "outputs": [],
   "source": [
    "def new_centroids(points):\n",
    "    new_centroid_points = []\n",
    "    for i in range(len(points)):\n",
    "        new_centroid_points.append(points[i].mean())\n",
    "    return new_centroid_points"
   ]
  },
  {
   "cell_type": "code",
   "execution_count": 119,
   "metadata": {},
   "outputs": [],
   "source": [
    "def distortion(points, centroids):\n",
    "    total_dis = 0\n",
    "    for i in range(len(points)):\n",
    "        dis = np.square(np.array(points[i])-centroids[i]).sum() #distortion for each cluster\n",
    "        total_dis = total_dis + dis\n",
    "    return total_dis"
   ]
  },
  {
   "cell_type": "code",
   "execution_count": 120,
   "metadata": {},
   "outputs": [],
   "source": [
    "def lloydsalgorithm(point_array, centroid_array):\n",
    "    previous_centroids = centroid_array\n",
    "    groups = grouping(point_array, centroid_array)\n",
    "    \n",
    "    new_centroid_array = new_centroids(groups)\n",
    "    new_groups = grouping(point_array, new_centroid_array)\n",
    "\n",
    "    prev_dis = distortion(groups, previous_centroids)\n",
    "    new_dis = distortion(new_groups, new_centroid_array)\n",
    "\n",
    "    if np.abs(prev_dis-new_dis)/prev_dis<e:\n",
    "        return new_centroid_array\n",
    "    else:\n",
    "        return lloydsalgorithm(point_array, new_centroid_array)\n",
    "    \n"
   ]
  },
  {
   "cell_type": "code",
   "execution_count": 121,
   "metadata": {},
   "outputs": [
    {
     "data": {
      "text/plain": [
       "[-1.849441262603312,\n",
       " -1.1226437840944747,\n",
       " -0.5887316291831748,\n",
       " -0.11315092998736404,\n",
       " 0.32219078111438626,\n",
       " 0.6235222164027524,\n",
       " 1.0326444193050897,\n",
       " 2.045474634019054]"
      ]
     },
     "execution_count": 121,
     "metadata": {},
     "output_type": "execute_result"
    }
   ],
   "source": [
    "lloydsalgorithm(points, centroids)"
   ]
  },
  {
   "cell_type": "code",
   "execution_count": null,
   "metadata": {},
   "outputs": [],
   "source": []
  },
  {
   "cell_type": "code",
   "execution_count": null,
   "metadata": {},
   "outputs": [],
   "source": []
  }
 ],
 "metadata": {
  "kernelspec": {
   "display_name": "Python 3.9.1 64-bit",
   "language": "python",
   "name": "python3"
  },
  "language_info": {
   "codemirror_mode": {
    "name": "ipython",
    "version": 3
   },
   "file_extension": ".py",
   "mimetype": "text/x-python",
   "name": "python",
   "nbconvert_exporter": "python",
   "pygments_lexer": "ipython3",
   "version": "3.9.1"
  },
  "orig_nbformat": 4,
  "vscode": {
   "interpreter": {
    "hash": "aee8b7b246df8f9039afb4144a1f6fd8d2ca17a180786b69acc140d282b71a49"
   }
  }
 },
 "nbformat": 4,
 "nbformat_minor": 2
}
