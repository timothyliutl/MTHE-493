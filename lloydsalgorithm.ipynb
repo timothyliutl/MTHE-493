{
 "cells": [
  {
   "cell_type": "code",
   "execution_count": 80,
   "metadata": {},
   "outputs": [],
   "source": [
    "import pandas as pd\n",
    "import numpy as np\n",
    "import seaborn as sns\n",
    "import sklearn\n",
    "import scipy\n",
    "import math"
   ]
  },
  {
   "cell_type": "markdown",
   "metadata": {},
   "source": [
    "# Quantizer without noise"
   ]
  },
  {
   "cell_type": "code",
   "execution_count": 81,
   "metadata": {},
   "outputs": [],
   "source": [
    "points = []\n",
    "centroids = []\n",
    "num_points = 10**5\n",
    "num_centroids = 2\n",
    "e=0.0001\n",
    "\n",
    "for i in range(num_points):\n",
    "    points.append(np.random.normal())\n",
    "for i in range(num_centroids):\n",
    "    centroids.append(np.random.normal())\n",
    "\n",
    "points = np.array(points)\n",
    "centroids = np.array(centroids)"
   ]
  },
  {
   "cell_type": "code",
   "execution_count": 82,
   "metadata": {},
   "outputs": [],
   "source": [
    "def grouping(point_array, centroid_array):\n",
    "    #grouping the centroids into groups\n",
    "    grouping = []\n",
    "    return_list = {}\n",
    "    centroid_array = np.sort(centroid_array)\n",
    "    for i in range(len(centroid_array)-1):\n",
    "        midpoint = (centroid_array[i]+centroid_array[i+1])/2\n",
    "        grouping.append(midpoint)\n",
    "    for i in range(len(grouping)+1):\n",
    "        if i ==0:\n",
    "            return_list[i] = point_array[np.where(point_array<grouping[i])]\n",
    "        if i == len(grouping):\n",
    "            return_list[i] = point_array[np.where(point_array>grouping[i-1])]\n",
    "        if i!=0 and i!= len(grouping):\n",
    "            return_list[i] = point_array[np.where(np.logical_and(point_array>grouping[i-1], point_array<grouping[i]))]\n",
    "        \n",
    "    return return_list"
   ]
  },
  {
   "cell_type": "code",
   "execution_count": 83,
   "metadata": {},
   "outputs": [],
   "source": [
    "def new_centroids(points):\n",
    "    new_centroid_points = []\n",
    "    for i in range(len(points)):\n",
    "        new_centroid_points.append(points[i].mean())\n",
    "    return new_centroid_points"
   ]
  },
  {
   "cell_type": "code",
   "execution_count": 84,
   "metadata": {},
   "outputs": [],
   "source": [
    "def distortion(points, centroids):\n",
    "    total_dis = 0\n",
    "    for i in range(len(points)):\n",
    "        dis = np.square(np.array(points[i])-centroids[i]).sum() #distortion for each cluster\n",
    "        total_dis = total_dis + dis\n",
    "    return total_dis"
   ]
  },
  {
   "cell_type": "code",
   "execution_count": 85,
   "metadata": {},
   "outputs": [],
   "source": [
    "def lloydsalgorithm(point_array, centroid_array, distortion_list):\n",
    "    previous_centroids = centroid_array\n",
    "    groups = grouping(point_array, centroid_array)\n",
    "    \n",
    "    new_centroid_array = new_centroids(groups)\n",
    "    new_groups = grouping(point_array, new_centroid_array)\n",
    "\n",
    "    prev_dis = distortion(groups, previous_centroids)\n",
    "    new_dis = distortion(new_groups, new_centroid_array)\n",
    "    distortion_list.append(prev_dis)\n",
    "\n",
    "    if np.abs(prev_dis-new_dis)/prev_dis<e:\n",
    "        return new_centroid_array, distortion_list\n",
    "    else:\n",
    "        return lloydsalgorithm(point_array, new_centroid_array, distortion_list)\n",
    "    \n"
   ]
  },
  {
   "cell_type": "code",
   "execution_count": 86,
   "metadata": {},
   "outputs": [],
   "source": [
    "centroids, distortions =lloydsalgorithm(points, centroids, [])"
   ]
  },
  {
   "cell_type": "code",
   "execution_count": 87,
   "metadata": {},
   "outputs": [],
   "source": [
    "df = pd.DataFrame(distortions)"
   ]
  },
  {
   "cell_type": "code",
   "execution_count": 88,
   "metadata": {},
   "outputs": [
    {
     "data": {
      "text/plain": [
       "Text(0, 0.5, 'Mean Squared Error')"
      ]
     },
     "execution_count": 88,
     "metadata": {},
     "output_type": "execute_result"
    },
    {
     "data": {
      "image/png": "[encoded data removed]",
      "text/plain": [
       "<Figure size 432x288 with 1 Axes>"
      ]
     },
     "metadata": {},
     "output_type": "display_data"
    }
   ],
   "source": [
    "sns.set_theme()\n",
    "ax = sns.lineplot(data = df, y=0, x=df.index,  markers=True, dashes=False)\n",
    "ax.set_xlabel(\"Iterations\")\n",
    "ax.set_ylabel(\"Mean Squared Error\")"
   ]
  },
  {
   "cell_type": "markdown",
   "metadata": {},
   "source": [
    "# Quantizer with Noise"
   ]
  },
  {
   "cell_type": "code",
   "execution_count": 89,
   "metadata": {},
   "outputs": [],
   "source": [
    "iterations = 10**5\n",
    "num_centroids = 2\n",
    "training_set = []\n",
    "centroids = []\n",
    "epsilon = 0.1\n",
    "\n",
    "transition_matrix = np.matrix([[1 - epsilon, epsilon], [epsilon, 1-epsilon]])\n",
    "\n",
    "for i in range(iterations):\n",
    "    training_set.append(np.random.normal())\n",
    "\n",
    "for i in range(num_centroids):\n",
    "    centroids.append(np.random.normal())"
   ]
  },
  {
   "cell_type": "code",
   "execution_count": 90,
   "metadata": {},
   "outputs": [],
   "source": [
    "def distortion_w_noise(groups, centroids, transition_matrix):\n",
    "    dimension1, dimension2 = transition_matrix.shape\n",
    "    distortion = 0\n",
    "    for i in range(dimension1):\n",
    "        sub_add = 0\n",
    "        for j in range(len(groups)):\n",
    "            for point in groups[j]:\n",
    "                sub_add = sub_add + (point- centroids[i])**2\n",
    "        distortion = distortion + transition_matrix[i,j]*sub_add\n",
    "    return distortion\n"
   ]
  },
  {
   "cell_type": "code",
   "execution_count": 91,
   "metadata": {},
   "outputs": [],
   "source": [
    "def distortion(point, centroid, prob):\n",
    "    return prob*(point - centroid)**2"
   ]
  },
  {
   "cell_type": "code",
   "execution_count": 117,
   "metadata": {},
   "outputs": [],
   "source": [
    "def ub_distortions(point, centroids, transition_matrix):\n",
    "    i, j = transition_matrix.shape\n",
    "    distortions = []\n",
    "    for indexi in range(i): # will put value in index i of the distortion array\n",
    "        sum = 0\n",
    "        for indexj in range(j):\n",
    "            sum = sum + transition_matrix[indexi, indexj]*(point-centroids[indexj])**2\n",
    "        distortions.append(sum)\n",
    "    return np.array(distortions).argmin()\n",
    "    # returns which subsection the points belongs to"
   ]
  },
  {
   "cell_type": "code",
   "execution_count": 118,
   "metadata": {},
   "outputs": [],
   "source": [
    "def grouping_w_noise(centroids, points, transition_matrix):\n",
    "    distance = {}\n",
    "    #initialize dictionary with arrays\n",
    "\n",
    "    dimension1, dimension2 = transition_matrix.shape\n",
    "    for i in range(dimension1):\n",
    "        distance[i] = []\n",
    "\n",
    "    for point in points:\n",
    "        index = ub_distortions(point, centroids, transition_matrix)\n",
    "        distance[index].append(point)\n",
    "    return distance"
   ]
  },
  {
   "cell_type": "code",
   "execution_count": 123,
   "metadata": {},
   "outputs": [],
   "source": [
    "def new_centroids_w_noise(grouping, transition_matrix):\n",
    "    #weighted average for each section\n",
    "    dimension1, dimension2 = transition_matrix.shape\n",
    "    centroid_list ={}\n",
    "    for i in range(dimension1):\n",
    "        numerator = 0\n",
    "        denominator = 0\n",
    "        for j in range(dimension2):\n",
    "            numerator = numerator + transition_matrix[i,j] * np.array(grouping[j]).sum()\n",
    "            denominator = denominator + transition_matrix[i,j]* len(grouping[j])\n",
    "        centroid_list[i] = numerator/denominator\n",
    "    return centroid_list\n"
   ]
  },
  {
   "cell_type": "code",
   "execution_count": 124,
   "metadata": {},
   "outputs": [
    {
     "name": "stdout",
     "output_type": "stream",
     "text": [
      "0\n",
      "1\n"
     ]
    }
   ],
   "source": [
    "for i in range(2):\n",
    "    print(i)"
   ]
  },
  {
   "cell_type": "code",
   "execution_count": 125,
   "metadata": {},
   "outputs": [],
   "source": [
    "def lloydsalgorithm_w_noise(training_set, centroid_array, distortion_list, transition_matrix):\n",
    "    previous_centroids = centroid_array\n",
    "    groups = grouping_w_noise(centroid_array, training_set, transition_matrix)\n",
    "\n",
    "    new_centroids = new_centroids_w_noise(groups, transition_matrix)\n",
    "    new_groups = grouping_w_noise(new_centroids, training_set, transition_matrix)\n",
    "\n",
    "    new_dist = distortion_w_noise(new_groups, new_centroids, transition_matrix)\n",
    "    prev_dist = distortion_w_noise(groups, previous_centroids, transition_matrix)\n",
    "\n",
    "    distortion_list.append(prev_dist)\n",
    "    if abs(new_dist-prev_dist)/prev_dist > 0.001:\n",
    "        print(new_centroids)\n",
    "        print(new_dist/num_points)\n",
    "        return lloydsalgorithm_w_noise(training_set, new_centroids, distortion_list, transition_matrix)\n",
    "    else:\n",
    "        return distortion_list, new_centroids\n"
   ]
  },
  {
   "cell_type": "code",
   "execution_count": 126,
   "metadata": {},
   "outputs": [
    {
     "name": "stdout",
     "output_type": "stream",
     "text": [
      "{0: -0.3752906317628798, 1: 0.8420118501340197}\n",
      "1.6525360213577107\n",
      "{0: -0.5415094357275355, 1: 0.727887934562579}\n",
      "1.5062652506780743\n",
      "{0: -0.6000764958374465, 1: 0.6748807382830693}\n",
      "1.4459120238889864\n",
      "{0: -0.6228008531497203, 1: 0.6529716825196091}\n",
      "1.4224596915139711\n",
      "{0: -0.631870224210326, 1: 0.6440182431964615}\n",
      "1.4131265791966199\n",
      "{0: -0.6356529351337121, 1: 0.6402477595396758}\n",
      "1.409239663262494\n",
      "{0: -0.6372452650320021, 1: 0.6386554413371834}\n",
      "1.4076060637298209\n"
     ]
    },
    {
     "data": {
      "text/plain": [
       "([317346.81547827326,\n",
       "  165253.60213577107,\n",
       "  150626.52506780744,\n",
       "  144591.20238889864,\n",
       "  142245.96915139712,\n",
       "  141312.657919662,\n",
       "  140923.96632624939,\n",
       "  140760.6063729821],\n",
       " {0: -0.6379899971782882, 1: 0.6379099201454588})"
      ]
     },
     "execution_count": 126,
     "metadata": {},
     "output_type": "execute_result"
    }
   ],
   "source": [
    "lloydsalgorithm_w_noise(training_set, centroids, [], transition_matrix)"
   ]
  },
  {
   "cell_type": "code",
   "execution_count": null,
   "metadata": {},
   "outputs": [],
   "source": []
  }
 ],
 "metadata": {
  "kernelspec": {
   "display_name": "Python 3.9.1 64-bit",
   "language": "python",
   "name": "python3"
  },
  "language_info": {
   "codemirror_mode": {
    "name": "ipython",
    "version": 3
   },
   "file_extension": ".py",
   "mimetype": "text/x-python",
   "name": "python",
   "nbconvert_exporter": "python",
   "pygments_lexer": "ipython3",
   "version": "3.9.1"
  },
  "orig_nbformat": 4,
  "vscode": {
   "interpreter": {
    "hash": "aee8b7b246df8f9039afb4144a1f6fd8d2ca17a180786b69acc140d282b71a49"
   }
  }
 },
 "nbformat": 4,
 "nbformat_minor": 2
}
