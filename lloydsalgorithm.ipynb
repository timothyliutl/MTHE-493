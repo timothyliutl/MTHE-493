{
 "cells": [
  {
   "cell_type": "code",
   "execution_count": 368,
   "metadata": {},
   "outputs": [],
   "source": [
    "import pandas as pd\n",
    "import numpy as np\n",
    "import seaborn as sns\n",
    "import sklearn\n",
    "import scipy\n",
    "import math"
   ]
  },
  {
   "cell_type": "markdown",
   "metadata": {},
   "source": [
    "# Quantizer without noise"
   ]
  },
  {
   "cell_type": "code",
   "execution_count": 369,
   "metadata": {},
   "outputs": [],
   "source": [
    "points = []\n",
    "centroids = []\n",
    "num_points = 10**5\n",
    "num_centroids = 2\n",
    "e=0.0001\n",
    "\n",
    "for i in range(num_points):\n",
    "    points.append(np.random.normal())\n",
    "for i in range(num_centroids):\n",
    "    centroids.append(np.random.normal())\n",
    "\n",
    "points = np.array(points)\n",
    "centroids = np.array(centroids)\n",
    "centroids = np.array([-1,4])"
   ]
  },
  {
   "cell_type": "code",
   "execution_count": 370,
   "metadata": {},
   "outputs": [],
   "source": [
    "def grouping(point_array, centroid_array):\n",
    "    #grouping the centroids into groups\n",
    "    grouping = []\n",
    "    return_list = {}\n",
    "    centroid_array = np.sort(centroid_array)\n",
    "    for i in range(len(centroid_array)-1):\n",
    "        midpoint = (centroid_array[i]+centroid_array[i+1])/2\n",
    "        grouping.append(midpoint)\n",
    "    for i in range(len(grouping)+1):\n",
    "        if i ==0:\n",
    "            return_list[i] = point_array[np.where(point_array<grouping[i])]\n",
    "        if i == len(grouping):\n",
    "            return_list[i] = point_array[np.where(point_array>grouping[i-1])]\n",
    "        if i!=0 and i!= len(grouping):\n",
    "            return_list[i] = point_array[np.where(np.logical_and(point_array>grouping[i-1], point_array<grouping[i]))]\n",
    "        \n",
    "    return return_list"
   ]
  },
  {
   "cell_type": "code",
   "execution_count": 371,
   "metadata": {},
   "outputs": [],
   "source": [
    "def new_centroids(points):\n",
    "    new_centroid_points = []\n",
    "    for i in range(len(points)):\n",
    "        new_centroid_points.append(points[i].mean())\n",
    "    return new_centroid_points"
   ]
  },
  {
   "cell_type": "code",
   "execution_count": 372,
   "metadata": {},
   "outputs": [],
   "source": [
    "def distortion(points, centroids):\n",
    "    total_dis = 0\n",
    "    for i in range(len(points)):\n",
    "        dis = np.square(np.array(points[i])-centroids[i]).sum() #distortion for each cluster\n",
    "        total_dis = total_dis + dis\n",
    "    return total_dis"
   ]
  },
  {
   "cell_type": "code",
   "execution_count": 373,
   "metadata": {},
   "outputs": [],
   "source": [
    "def lloydsalgorithm(point_array, centroid_array, distortion_list):\n",
    "    previous_centroids = centroid_array\n",
    "    groups = grouping(point_array, centroid_array)\n",
    "    \n",
    "    new_centroid_array = new_centroids(groups)\n",
    "    new_groups = grouping(point_array, new_centroid_array)\n",
    "\n",
    "    prev_dis = distortion(groups, previous_centroids)\n",
    "    new_dis = distortion(new_groups, new_centroid_array)\n",
    "    distortion_list.append(prev_dis/len(point_array))\n",
    "\n",
    "    if np.abs(prev_dis-new_dis)/prev_dis<e:\n",
    "        return new_centroid_array, distortion_list\n",
    "    else:\n",
    "        return lloydsalgorithm(point_array, new_centroid_array, distortion_list)\n",
    "    \n"
   ]
  },
  {
   "cell_type": "code",
   "execution_count": 374,
   "metadata": {},
   "outputs": [],
   "source": [
    "centroids, distortions =lloydsalgorithm(points, centroids, [])"
   ]
  },
  {
   "cell_type": "code",
   "execution_count": 375,
   "metadata": {},
   "outputs": [],
   "source": [
    "df = pd.DataFrame(distortions)"
   ]
  },
  {
   "cell_type": "code",
   "execution_count": 376,
   "metadata": {},
   "outputs": [
    {
     "data": {
      "text/plain": [
       "Text(0, 0.5, 'Mean Squared Error')"
      ]
     },
     "execution_count": 376,
     "metadata": {},
     "output_type": "execute_result"
    },
    {
     "data": {
      "image/png": "[encoded data removed]",
      "text/plain": [
       "<Figure size 432x288 with 1 Axes>"
      ]
     },
     "metadata": {},
     "output_type": "display_data"
    }
   ],
   "source": [
    "sns.set_theme()\n",
    "ax = sns.lineplot(data = df, y=0, x=df.index,  markers=True, dashes=False)\n",
    "ax.set_xlabel(\"Iterations\")\n",
    "ax.set_ylabel(\"Mean Squared Error\")"
   ]
  },
  {
   "cell_type": "markdown",
   "metadata": {},
   "source": [
    "# Quantizer with Noise"
   ]
  },
  {
   "cell_type": "code",
   "execution_count": 377,
   "metadata": {},
   "outputs": [],
   "source": [
    "iterations = 10**5\n",
    "num_centroids = 2\n",
    "training_set = []\n",
    "centroids = []\n",
    "epsilon = 0.1\n",
    "\n",
    "transition_matrix = np.matrix([[1 - epsilon, epsilon], [epsilon, 1-epsilon]])\n",
    "\n",
    "for i in range(iterations):\n",
    "    training_set.append(np.random.normal())\n",
    "\n",
    "for i in range(num_centroids):\n",
    "    centroids.append(np.random.normal())\n",
    "centroids = [-1,4]"
   ]
  },
  {
   "cell_type": "code",
   "execution_count": 378,
   "metadata": {},
   "outputs": [],
   "source": [
    "def distortion_w_noise(groups, centroids, transition_matrix):\n",
    "    dimension1, dimension2 = transition_matrix.shape\n",
    "    distortion = 0\n",
    "    for i in range(dimension1): #going through each centroid\n",
    "        for j in range(dimension2): #going through each group\n",
    "            sub_add = 0\n",
    "            for point in groups[j]:\n",
    "                sub_add = sub_add + transition_matrix[i,j]*(point- centroids[i])**2\n",
    "            distortion = distortion + sub_add\n",
    "    return distortion\n"
   ]
  },
  {
   "cell_type": "code",
   "execution_count": 379,
   "metadata": {},
   "outputs": [],
   "source": [
    "def ub_distortions(point, centroids, transition_matrix):\n",
    "    i, j = transition_matrix.shape\n",
    "    distortions = []\n",
    "    for indexi in range(i): # will put value in index i of the distortion array\n",
    "        sum = 0\n",
    "        for indexj in range(j):\n",
    "            sum = sum + transition_matrix[indexi, indexj]*(point-centroids[indexj])**2\n",
    "        distortions.append(sum)\n",
    "    return np.array(distortions).argmin()\n",
    "    # returns which subsection the points belongs to"
   ]
  },
  {
   "cell_type": "code",
   "execution_count": 380,
   "metadata": {},
   "outputs": [],
   "source": [
    "def grouping_w_noise(centroids, points, transition_matrix):\n",
    "    distance = {}\n",
    "    #initialize dictionary with arrays\n",
    "\n",
    "    dimension1, dimension2 = transition_matrix.shape\n",
    "    for i in range(dimension1):\n",
    "        distance[i] = []\n",
    "\n",
    "    for point in points:\n",
    "        index = ub_distortions(point, centroids, transition_matrix)\n",
    "        distance[index].append(point)\n",
    "    return distance"
   ]
  },
  {
   "cell_type": "code",
   "execution_count": 381,
   "metadata": {},
   "outputs": [],
   "source": [
    "def new_centroids_w_noise(grouping, transition_matrix):\n",
    "    #weighted average for each section\n",
    "    dimension1, dimension2 = transition_matrix.shape\n",
    "    centroid_list ={}\n",
    "    for i in range(dimension1):\n",
    "        numerator = 0\n",
    "        denominator = 0\n",
    "        for j in range(dimension2):\n",
    "            numerator = numerator + transition_matrix[i,j] * np.array(grouping[j]).sum()\n",
    "            denominator = denominator + transition_matrix[i,j]* len(grouping[j])\n",
    "        centroid_list[i] = numerator/denominator\n",
    "    return centroid_list\n"
   ]
  },
  {
   "cell_type": "code",
   "execution_count": 382,
   "metadata": {},
   "outputs": [],
   "source": [
    "def lloydsalgorithm_w_noise(training_set, centroid_array, distortion_list, transition_matrix):\n",
    "    previous_centroids = centroid_array\n",
    "    groups = grouping_w_noise(centroid_array, training_set, transition_matrix)\n",
    "\n",
    "    new_centroids = new_centroids_w_noise(groups, transition_matrix)\n",
    "    new_groups = grouping_w_noise(new_centroids, training_set, transition_matrix)\n",
    "\n",
    "    new_dist = distortion_w_noise(new_groups, new_centroids, transition_matrix)\n",
    "    prev_dist = distortion_w_noise(groups, previous_centroids, transition_matrix)\n",
    "\n",
    "    if abs(new_dist-prev_dist)/prev_dist > 0.0001:\n",
    "        distortion_list.append(prev_dist/num_points)\n",
    "        print(new_centroids)\n",
    "        print(new_dist/num_points)\n",
    "        return lloydsalgorithm_w_noise(training_set, new_centroids, distortion_list, transition_matrix)\n",
    "    else:\n",
    "        return distortion_list, new_centroids\n"
   ]
  },
  {
   "cell_type": "code",
   "execution_count": 383,
   "metadata": {},
   "outputs": [
    {
     "name": "stdout",
     "output_type": "stream",
     "text": [
      "{0: -0.11620067158150096, 1: 0.6895942421987773}\n",
      "0.7061726613860086\n",
      "{0: -0.5148444126397875, 1: 0.7526450125751288}\n",
      "0.6002725589338662\n",
      "{0: -0.5846846745622025, 1: 0.6908446201846371}\n",
      "0.5941505651313288\n",
      "{0: -0.6119283657642244, 1: 0.6648157761343825}\n",
      "0.5931429917598345\n",
      "{0: -0.6232130207806472, 1: 0.6537547165213692}\n",
      "0.592967605494907\n"
     ]
    }
   ],
   "source": [
    "distortions_w_noise, centroids_final = lloydsalgorithm_w_noise(training_set, centroids, [], transition_matrix)"
   ]
  },
  {
   "cell_type": "code",
   "execution_count": 384,
   "metadata": {},
   "outputs": [],
   "source": [
    "noisy = pd.Series(distortions_w_noise)\n",
    "non_noisy = pd.Series(distortions)"
   ]
  },
  {
   "cell_type": "code",
   "execution_count": 385,
   "metadata": {},
   "outputs": [
    {
     "data": {
      "text/plain": [
       "0     1.696670\n",
       "1     0.603068\n",
       "2     0.469564\n",
       "3     0.407380\n",
       "4     0.380825\n",
       "5     0.369831\n",
       "6     0.365407\n",
       "7     0.363565\n",
       "8     0.362783\n",
       "9     0.362488\n",
       "10    0.362368\n",
       "11    0.362316\n",
       "dtype: float64"
      ]
     },
     "execution_count": 385,
     "metadata": {},
     "output_type": "execute_result"
    }
   ],
   "source": [
    "non_noisy"
   ]
  },
  {
   "cell_type": "code",
   "execution_count": 386,
   "metadata": {},
   "outputs": [
    {
     "data": {
      "text/plain": [
       "0    3.270340\n",
       "1    0.706173\n",
       "2    0.600273\n",
       "3    0.594151\n",
       "4    0.593143\n",
       "dtype: float64"
      ]
     },
     "execution_count": 386,
     "metadata": {},
     "output_type": "execute_result"
    }
   ],
   "source": [
    "noisy"
   ]
  },
  {
   "cell_type": "code",
   "execution_count": 387,
   "metadata": {},
   "outputs": [
    {
     "data": {
      "text/plain": [
       "<matplotlib.legend.Legend at 0x7fb975dbd610>"
      ]
     },
     "execution_count": 387,
     "metadata": {},
     "output_type": "execute_result"
    },
    {
     "data": {
      "image/png": "[encoded data removed]",
      "text/plain": [
       "<Figure size 432x288 with 1 Axes>"
      ]
     },
     "metadata": {},
     "output_type": "display_data"
    }
   ],
   "source": [
    "import matplotlib.pyplot as plt\n",
    "plt.plot(noisy, label='Noisy Distortion')\n",
    "plt.plot(non_noisy, label='Noiseless Distortion')\n",
    "plt.xlabel('Iteration Number')\n",
    "plt.ylabel(\"Distortion\")\n",
    "plt.title(\"Distortions over each Iteration\")\n",
    "plt.legend()\n",
    "\n",
    "\n"
   ]
  },
  {
   "cell_type": "code",
   "execution_count": null,
   "metadata": {},
   "outputs": [],
   "source": []
  }
 ],
 "metadata": {
  "kernelspec": {
   "display_name": "Python 3.9.1 64-bit",
   "language": "python",
   "name": "python3"
  },
  "language_info": {
   "codemirror_mode": {
    "name": "ipython",
    "version": 3
   },
   "file_extension": ".py",
   "mimetype": "text/x-python",
   "name": "python",
   "nbconvert_exporter": "python",
   "pygments_lexer": "ipython3",
   "version": "3.9.1"
  },
  "orig_nbformat": 4,
  "vscode": {
   "interpreter": {
    "hash": "aee8b7b246df8f9039afb4144a1f6fd8d2ca17a180786b69acc140d282b71a49"
   }
  }
 },
 "nbformat": 4,
 "nbformat_minor": 2
}
