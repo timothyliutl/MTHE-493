{
 "cells": [
  {
   "cell_type": "code",
   "execution_count": 1,
   "metadata": {},
   "outputs": [],
   "source": [
    "import pandas as pd\n",
    "import numpy as np\n",
    "import seaborn as sns\n",
    "import sklearn\n",
    "import scipy"
   ]
  },
  {
   "cell_type": "markdown",
   "metadata": {},
   "source": [
    "# Quantizer without noise"
   ]
  },
  {
   "cell_type": "code",
   "execution_count": 2,
   "metadata": {},
   "outputs": [],
   "source": [
    "points = []\n",
    "centroids = []\n",
    "num_points = 10**5\n",
    "num_centroids = 2\n",
    "e=0.0001\n",
    "\n",
    "for i in range(num_points):\n",
    "    points.append(np.random.normal())\n",
    "for i in range(num_centroids):\n",
    "    centroids.append(np.random.normal())\n",
    "\n",
    "points = np.array(points)\n",
    "centroids = np.array(centroids)"
   ]
  },
  {
   "cell_type": "code",
   "execution_count": 3,
   "metadata": {},
   "outputs": [],
   "source": [
    "def grouping(point_array, centroid_array):\n",
    "    #grouping the centroids into groups\n",
    "    grouping = []\n",
    "    return_list = {}\n",
    "    centroid_array = np.sort(centroid_array)\n",
    "    for i in range(len(centroid_array)-1):\n",
    "        midpoint = (centroid_array[i]+centroid_array[i+1])/2\n",
    "        grouping.append(midpoint)\n",
    "    for i in range(len(grouping)+1):\n",
    "        if i ==0:\n",
    "            return_list[i] = point_array[np.where(point_array<grouping[i])]\n",
    "        if i == len(grouping):\n",
    "            return_list[i] = point_array[np.where(point_array>grouping[i-1])]\n",
    "        if i!=0 and i!= len(grouping):\n",
    "            return_list[i] = point_array[np.where(np.logical_and(point_array>grouping[i-1], point_array<grouping[i]))]\n",
    "        \n",
    "    return return_list"
   ]
  },
  {
   "cell_type": "code",
   "execution_count": 4,
   "metadata": {},
   "outputs": [],
   "source": [
    "def new_centroids(points):\n",
    "    new_centroid_points = []\n",
    "    for i in range(len(points)):\n",
    "        new_centroid_points.append(points[i].mean())\n",
    "    return new_centroid_points"
   ]
  },
  {
   "cell_type": "code",
   "execution_count": 5,
   "metadata": {},
   "outputs": [],
   "source": [
    "def distortion(points, centroids):\n",
    "    total_dis = 0\n",
    "    for i in range(len(points)):\n",
    "        dis = np.square(np.array(points[i])-centroids[i]).sum() #distortion for each cluster\n",
    "        total_dis = total_dis + dis\n",
    "    return total_dis"
   ]
  },
  {
   "cell_type": "code",
   "execution_count": 6,
   "metadata": {},
   "outputs": [],
   "source": [
    "def lloydsalgorithm(point_array, centroid_array, distortion_list):\n",
    "    previous_centroids = centroid_array\n",
    "    groups = grouping(point_array, centroid_array)\n",
    "    \n",
    "    new_centroid_array = new_centroids(groups)\n",
    "    new_groups = grouping(point_array, new_centroid_array)\n",
    "\n",
    "    prev_dis = distortion(groups, previous_centroids)\n",
    "    new_dis = distortion(new_groups, new_centroid_array)\n",
    "    distortion_list.append(prev_dis)\n",
    "\n",
    "    if np.abs(prev_dis-new_dis)/prev_dis<e:\n",
    "        return new_centroid_array, distortion_list\n",
    "    else:\n",
    "        return lloydsalgorithm(point_array, new_centroid_array, distortion_list)\n",
    "    \n"
   ]
  },
  {
   "cell_type": "code",
   "execution_count": 7,
   "metadata": {},
   "outputs": [],
   "source": [
    "centroids, distortions =lloydsalgorithm(points, centroids, [])"
   ]
  },
  {
   "cell_type": "code",
   "execution_count": 8,
   "metadata": {},
   "outputs": [],
   "source": [
    "df = pd.DataFrame(distortions)"
   ]
  },
  {
   "cell_type": "code",
   "execution_count": 9,
   "metadata": {},
   "outputs": [
    {
     "data": {
      "text/plain": [
       "Text(0, 0.5, 'Mean Squared Error')"
      ]
     },
     "execution_count": 9,
     "metadata": {},
     "output_type": "execute_result"
    },
    {
     "data": {
      "image/png": "[encoded data removed]",
      "text/plain": [
       "<Figure size 432x288 with 1 Axes>"
      ]
     },
     "metadata": {},
     "output_type": "display_data"
    }
   ],
   "source": [
    "sns.set_theme()\n",
    "ax = sns.lineplot(data = df, y=0, x=df.index,  markers=True, dashes=False)\n",
    "ax.set_xlabel(\"Iterations\")\n",
    "ax.set_ylabel(\"Mean Squared Error\")"
   ]
  },
  {
   "cell_type": "markdown",
   "metadata": {},
   "source": [
    "# Quantizer with Noise"
   ]
  },
  {
   "cell_type": "code",
   "execution_count": 22,
   "metadata": {},
   "outputs": [],
   "source": [
    "iterations = 10**5\n",
    "num_centroids = 2\n",
    "training_set = []\n",
    "centroids = []\n",
    "epsilon = 0.001\n",
    "\n",
    "transition_matrix = np.matrix([[1 - epsilon, epsilon], [epsilon, 1-epsilon]])\n",
    "\n",
    "for i in range(iterations):\n",
    "    training_set.append(np.random.normal())\n",
    "\n",
    "for i in range(num_centroids):\n",
    "    centroids.append(np.random.normal())"
   ]
  },
  {
   "cell_type": "code",
   "execution_count": 44,
   "metadata": {},
   "outputs": [],
   "source": [
    "def distortion(point, centroid, prob):\n",
    "    return prob*(point - centroid)**2"
   ]
  },
  {
   "cell_type": "code",
   "execution_count": null,
   "metadata": {},
   "outputs": [],
   "source": []
  },
  {
   "cell_type": "code",
   "execution_count": 36,
   "metadata": {},
   "outputs": [
    {
     "data": {
      "text/plain": [
       "(2, 2)"
      ]
     },
     "execution_count": 36,
     "metadata": {},
     "output_type": "execute_result"
    }
   ],
   "source": [
    "transition_matrix.shape"
   ]
  },
  {
   "cell_type": "code",
   "execution_count": 52,
   "metadata": {},
   "outputs": [],
   "source": [
    "def ub_distortions(point, centroids, transition_matrix):\n",
    "    i, j = transition_matrix.shape\n",
    "    distortions = []\n",
    "    sum = 0\n",
    "    for indexi in range(i):\n",
    "        for indexj in range(j):\n",
    "            sum = sum + distortion(point, centroids[indexj], transition_matrix[indexi,indexj])\n",
    "        distortions.append(sum)\n",
    "    return np.array(distortions).min()"
   ]
  },
  {
   "cell_type": "code",
   "execution_count": null,
   "metadata": {},
   "outputs": [],
   "source": [
    "def grouping_w_noise(centroids, points, transition_matrix):\n",
    "    distance = {}\n",
    "    dimension1, dimension2 = transition_matrix.shape\n",
    "    for i in range(dimension1):\n",
    "        for j in range(dimension2):\n",
    "            prob = transition_matrix(i,j)\n",
    "            \n",
    "            pass"
   ]
  },
  {
   "cell_type": "code",
   "execution_count": null,
   "metadata": {},
   "outputs": [],
   "source": [
    "def new_centroids_w_noise():\n",
    "    #weighted average for each section\n",
    "    \n",
    "    pass"
   ]
  },
  {
   "cell_type": "code",
   "execution_count": null,
   "metadata": {},
   "outputs": [],
   "source": [
    "def distortion_w_noise():\n",
    "    pass"
   ]
  },
  {
   "cell_type": "code",
   "execution_count": null,
   "metadata": {},
   "outputs": [],
   "source": [
    "def lloydsalgorithm_w_noise():\n",
    "    pass"
   ]
  },
  {
   "cell_type": "code",
   "execution_count": null,
   "metadata": {},
   "outputs": [],
   "source": []
  }
 ],
 "metadata": {
  "kernelspec": {
   "display_name": "Python 3.9.1 64-bit",
   "language": "python",
   "name": "python3"
  },
  "language_info": {
   "codemirror_mode": {
    "name": "ipython",
    "version": 3
   },
   "file_extension": ".py",
   "mimetype": "text/x-python",
   "name": "python",
   "nbconvert_exporter": "python",
   "pygments_lexer": "ipython3",
   "version": "3.9.1"
  },
  "orig_nbformat": 4,
  "vscode": {
   "interpreter": {
    "hash": "aee8b7b246df8f9039afb4144a1f6fd8d2ca17a180786b69acc140d282b71a49"
   }
  }
 },
 "nbformat": 4,
 "nbformat_minor": 2
}
