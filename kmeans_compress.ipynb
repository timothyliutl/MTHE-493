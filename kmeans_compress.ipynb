{
 "cells": [
  {
   "cell_type": "code",
   "execution_count": 1,
   "metadata": {},
   "outputs": [],
   "source": [
    "import rawpy\n",
    "import numpy as np\n",
    "from sklearn.cluster import KMeans"
   ]
  },
  {
   "cell_type": "code",
   "execution_count": 2,
   "metadata": {},
   "outputs": [],
   "source": [
    "image = rawpy.imread('data/DSC00514.ARW')\n",
    "rgb = image.postprocess()"
   ]
  },
  {
   "cell_type": "code",
   "execution_count": 3,
   "metadata": {},
   "outputs": [],
   "source": [
    "rows = rgb.shape[0]\n",
    "columns = rgb.shape[1]\n"
   ]
  },
  {
   "cell_type": "code",
   "execution_count": 6,
   "metadata": {},
   "outputs": [
    {
     "name": "stdout",
     "output_type": "stream",
     "text": [
      "Initialization complete\n",
      "Iteration 0, inertia 12487706148.0\n",
      "Iteration 1, inertia 10294884450.797384\n",
      "Iteration 2, inertia 9950897094.990507\n",
      "Iteration 3, inertia 9834231087.787323\n",
      "Iteration 4, inertia 9778471883.716293\n",
      "Iteration 5, inertia 9746396033.931309\n",
      "Iteration 6, inertia 9725642248.590645\n",
      "Iteration 7, inertia 9710960746.206034\n",
      "Iteration 8, inertia 9699830549.580656\n",
      "Iteration 9, inertia 9691021840.903181\n",
      "Iteration 10, inertia 9683810920.862856\n",
      "Iteration 11, inertia 9677765509.982258\n",
      "Iteration 12, inertia 9672520425.716545\n",
      "Iteration 13, inertia 9667898386.127487\n",
      "Iteration 14, inertia 9663730092.535969\n",
      "Iteration 15, inertia 9659984095.649872\n",
      "Iteration 16, inertia 9656558069.49123\n",
      "Iteration 17, inertia 9653486802.416386\n",
      "Iteration 18, inertia 9650604419.72471\n",
      "Iteration 19, inertia 9647867331.659323\n",
      "Iteration 20, inertia 9645268536.255835\n",
      "Iteration 21, inertia 9642765874.46889\n",
      "Iteration 22, inertia 9640346382.76396\n",
      "Iteration 23, inertia 9637979682.623755\n",
      "Iteration 24, inertia 9635657786.0775\n",
      "Iteration 25, inertia 9633307812.147667\n",
      "Iteration 26, inertia 9630917183.486153\n",
      "Iteration 27, inertia 9628432207.73639\n",
      "Iteration 28, inertia 9625797690.237814\n",
      "Iteration 29, inertia 9622880018.748344\n",
      "Iteration 30, inertia 9619592220.477417\n",
      "Iteration 31, inertia 9615758439.789959\n",
      "Iteration 32, inertia 9611103473.41401\n",
      "Iteration 33, inertia 9605360501.805367\n",
      "Iteration 34, inertia 9598230463.466942\n",
      "Iteration 35, inertia 9588962240.643309\n",
      "Iteration 36, inertia 9576631340.70686\n",
      "Iteration 37, inertia 9559887381.542742\n",
      "Iteration 38, inertia 9540272663.010254\n",
      "Iteration 39, inertia 9522061372.756834\n",
      "Iteration 40, inertia 9507967867.60668\n",
      "Iteration 41, inertia 9497859056.71214\n",
      "Iteration 42, inertia 9490602934.149033\n",
      "Iteration 43, inertia 9485057607.957111\n",
      "Iteration 44, inertia 9480473690.232561\n",
      "Iteration 45, inertia 9476520651.218956\n",
      "Iteration 46, inertia 9473033794.50486\n",
      "Iteration 47, inertia 9469889296.395266\n",
      "Iteration 48, inertia 9467030108.54546\n",
      "Iteration 49, inertia 9464433601.19192\n",
      "Iteration 50, inertia 9462026689.122261\n",
      "Iteration 51, inertia 9459765102.646643\n",
      "Iteration 52, inertia 9457668780.448532\n",
      "Iteration 53, inertia 9455691775.937138\n",
      "Iteration 54, inertia 9453845457.536705\n",
      "Iteration 55, inertia 9452081988.810425\n",
      "Iteration 56, inertia 9450402463.651857\n",
      "Iteration 57, inertia 9448734848.67731\n",
      "Iteration 58, inertia 9447110110.521778\n",
      "Iteration 59, inertia 9445525496.393023\n",
      "Iteration 60, inertia 9443951575.688131\n",
      "Iteration 61, inertia 9442381551.39657\n",
      "Iteration 62, inertia 9440823092.398367\n",
      "Iteration 63, inertia 9439267239.775942\n",
      "Iteration 64, inertia 9437704230.75827\n",
      "Iteration 65, inertia 9436142505.679543\n",
      "Iteration 66, inertia 9434529539.157455\n",
      "Iteration 67, inertia 9432907727.282145\n",
      "Iteration 68, inertia 9431224449.16891\n",
      "Iteration 69, inertia 9429496389.995436\n",
      "Iteration 70, inertia 9427701744.177979\n",
      "Iteration 71, inertia 9425829846.558619\n",
      "Iteration 72, inertia 9423863602.546942\n",
      "Iteration 73, inertia 9421799577.720129\n",
      "Iteration 74, inertia 9419642973.29456\n",
      "Iteration 75, inertia 9417342505.244469\n",
      "Iteration 76, inertia 9414859381.0534\n",
      "Iteration 77, inertia 9412234793.345854\n",
      "Iteration 78, inertia 9409384174.1667\n",
      "Iteration 79, inertia 9406346289.418549\n",
      "Iteration 80, inertia 9403024127.300655\n",
      "Iteration 81, inertia 9399409001.433567\n",
      "Iteration 82, inertia 9395520524.948349\n",
      "Iteration 83, inertia 9391184451.663294\n",
      "Iteration 84, inertia 9386461456.78668\n",
      "Iteration 85, inertia 9381288573.194607\n",
      "Iteration 86, inertia 9375686552.92185\n",
      "Iteration 87, inertia 9369597873.203873\n",
      "Iteration 88, inertia 9363021532.387941\n",
      "Iteration 89, inertia 9356007525.095926\n",
      "Iteration 90, inertia 9348504197.64812\n",
      "Iteration 91, inertia 9340517428.031776\n",
      "Iteration 92, inertia 9332221522.635292\n",
      "Iteration 93, inertia 9323783418.442566\n",
      "Iteration 94, inertia 9315286059.063156\n",
      "Iteration 95, inertia 9306876196.241112\n",
      "Iteration 96, inertia 9298622747.23989\n"
     ]
    }
   ],
   "source": [
    "image_data = rgb.reshape(rows*columns, 3)\n",
    "kmeans = KMeans(n_clusters=12, verbose=1)\n",
    "kmeans.fit(image_data)"
   ]
  },
  {
   "cell_type": "code",
   "execution_count": null,
   "metadata": {},
   "outputs": [],
   "source": []
  }
 ],
 "metadata": {
  "kernelspec": {
   "display_name": "Python 3",
   "language": "python",
   "name": "python3"
  },
  "language_info": {
   "codemirror_mode": {
    "name": "ipython",
    "version": 3
   },
   "file_extension": ".py",
   "mimetype": "text/x-python",
   "name": "python",
   "nbconvert_exporter": "python",
   "pygments_lexer": "ipython3",
   "version": "3.9.1"
  },
  "orig_nbformat": 4,
  "vscode": {
   "interpreter": {
    "hash": "aee8b7b246df8f9039afb4144a1f6fd8d2ca17a180786b69acc140d282b71a49"
   }
  }
 },
 "nbformat": 4,
 "nbformat_minor": 2
}
