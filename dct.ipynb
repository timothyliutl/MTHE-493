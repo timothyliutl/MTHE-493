{
 "cells": [
  {
   "cell_type": "code",
   "execution_count": 56,
   "metadata": {},
   "outputs": [],
   "source": [
    "# Imports\n",
    "from PIL import Image\n",
    "import numpy as np\n",
    "import cv2\n",
    "import math\n",
    "from scipy.fft import dct"
   ]
  },
  {
   "cell_type": "code",
   "execution_count": 6,
   "metadata": {},
   "outputs": [],
   "source": [
    "#convert image to grey scale\n",
    "im = cv2.imread('data/yasuo.jpeg')\n",
    "im = cv2.cvtColor(im, cv2.COLOR_BGR2GRAY)"
   ]
  },
  {
   "cell_type": "code",
   "execution_count": 16,
   "metadata": {},
   "outputs": [],
   "source": [
    "#getting an 8x8 block\n",
    "init_x=100\n",
    "init_y=100\n",
    "block = im[init_x:init_x+8, init_y:init_y+8]"
   ]
  },
  {
   "cell_type": "code",
   "execution_count": 30,
   "metadata": {},
   "outputs": [
    {
     "data": {
      "text/plain": [
       "array([[43, 58, 53, 27, 24, 53, 47, 51],\n",
       "       [47, 53, 43, 26, 34, 48, 38, 43],\n",
       "       [53, 48, 34, 26, 35, 39, 38, 46],\n",
       "       [56, 45, 28, 27, 31, 32, 43, 52],\n",
       "       [51, 40, 36, 11, 39, 31, 47, 28],\n",
       "       [46, 42, 33, 11, 37, 36, 38, 36],\n",
       "       [39, 45, 29, 14, 34, 40, 28, 44],\n",
       "       [33, 47, 26, 17, 33, 39, 26, 42]], dtype=uint8)"
      ]
     },
     "execution_count": 30,
     "metadata": {},
     "output_type": "execute_result"
    }
   ],
   "source": [
    "block"
   ]
  },
  {
   "cell_type": "code",
   "execution_count": 18,
   "metadata": {},
   "outputs": [],
   "source": [
    "#define c function used in DCT\n",
    "def c_funct(i):\n",
    "    if i==0:\n",
    "        return 1/(2**(1/2))\n",
    "    else:\n",
    "        return 1"
   ]
  },
  {
   "cell_type": "code",
   "execution_count": 44,
   "metadata": {},
   "outputs": [],
   "source": [
    "def dct_matrix():\n",
    "    result_matrix = np.zeros(shape=(8,8))\n",
    "    sum = 0\n",
    "    for i in range(8):\n",
    "        for j in range(8):\n",
    "            if i ==0:\n",
    "                result_matrix[i,j] = np.sqrt(1/8)\n",
    "            else:\n",
    "                result_matrix[i,j] = np.sqrt(2/8)*math.cos(((2*j+1)*i*math.pi)/16)\n",
    "    return result_matrix"
   ]
  },
  {
   "cell_type": "code",
   "execution_count": 80,
   "metadata": {},
   "outputs": [
    {
     "data": {
      "text/plain": [
       "array([[ 0.354,  0.354,  0.354,  0.354,  0.354,  0.354,  0.354,  0.354],\n",
       "       [ 0.49 ,  0.416,  0.278,  0.098, -0.098, -0.278, -0.416, -0.49 ],\n",
       "       [ 0.462,  0.191, -0.191, -0.462, -0.462, -0.191,  0.191,  0.462],\n",
       "       [ 0.416, -0.098, -0.49 , -0.278,  0.278,  0.49 ,  0.098, -0.416],\n",
       "       [ 0.354, -0.354, -0.354,  0.354,  0.354, -0.354, -0.354,  0.354],\n",
       "       [ 0.278, -0.49 ,  0.098,  0.416, -0.416, -0.098,  0.49 , -0.278],\n",
       "       [ 0.191, -0.462,  0.462, -0.191, -0.191,  0.462, -0.462,  0.191],\n",
       "       [ 0.098, -0.278,  0.416, -0.49 ,  0.49 , -0.416,  0.278, -0.098]])"
      ]
     },
     "execution_count": 80,
     "metadata": {},
     "output_type": "execute_result"
    }
   ],
   "source": [
    "np.round(dct_matrix(),3)"
   ]
  },
  {
   "cell_type": "code",
   "execution_count": 82,
   "metadata": {},
   "outputs": [
    {
     "data": {
      "text/plain": [
       "array([[267.512, -53.063, 109.374,  -4.399,  26.564, -20.922,  20.473,\n",
       "         15.102],\n",
       "       [-44.418,  11.999, -23.409, -11.896, -13.66 ,  10.034,   4.433,\n",
       "        -13.271],\n",
       "       [ 55.329, -13.834,  17.124,  -2.409,  -7.455, -22.379,   9.995,\n",
       "        -11.351],\n",
       "       [-11.701,   3.226,  -4.537,  -0.445, -17.898,   6.197,  -5.235,\n",
       "         11.324],\n",
       "       [ 30.362,  -7.19 ,  14.079,  -5.806,  -1.363,  -2.093,   0.328,\n",
       "         -1.958],\n",
       "       [  2.787,  -1.321,   7.098,  -9.607,   3.675,   0.643,   6.465,\n",
       "         -6.216],\n",
       "       [ 19.614,  -4.66 ,  10.619,  -5.513,   1.653,  -1.931,   3.124,\n",
       "         -3.262],\n",
       "       [ 10.11 ,  -1.713,   4.09 ,  -1.239,  -5.571,  -0.537,  -0.477,\n",
       "          3.406]])"
      ]
     },
     "execution_count": 82,
     "metadata": {},
     "output_type": "execute_result"
    }
   ],
   "source": [
    "np.round(np.matrix(dct_matrix().transpose())* np.matrix(block) * np.matrix(dct_matrix()),3)"
   ]
  },
  {
   "cell_type": "code",
   "execution_count": 72,
   "metadata": {},
   "outputs": [
    {
     "data": {
      "text/plain": [
       "array([[712.,   4.,  79., -21., -93., -25.,  35., -21.],\n",
       "       [664.,  24.,  55.,  19., -45., -40.,  23.,  -8.],\n",
       "       [638.,  21.,  80.,  28.,   1., -29.,   5.,   1.],\n",
       "       [628.,   5., 114.,  18.,  25.,  -8., -13.,   1.],\n",
       "       [566.,  28.,  69.,  62., -35.,  -5., -15.,  80.],\n",
       "       [558.,  13.,  71.,  50., -27., -41.,   6.,  45.],\n",
       "       [546.,  -2.,  68.,  29., -16., -76.,  19.,   0.],\n",
       "       [526.,  -3.,  52.,  20., -18., -83.,   4., -17.]])"
      ]
     },
     "execution_count": 72,
     "metadata": {},
     "output_type": "execute_result"
    }
   ],
   "source": [
    "np.rint((dct(block)))"
   ]
  },
  {
   "cell_type": "code",
   "execution_count": 50,
   "metadata": {},
   "outputs": [],
   "source": [
    "#computing DCT\n",
    "dct_result = np.zeros(shape=(8,8))\n"
   ]
  },
  {
   "cell_type": "code",
   "execution_count": 29,
   "metadata": {},
   "outputs": [
    {
     "data": {
      "text/plain": [
       "array([[302.,   8.,  52.,  18., -18., -27.,   6.,   7.],\n",
       "       [ 30.,   4.,   4.,  -9.,  -9.,  12.,   4.,  -6.],\n",
       "       [  4.,  -4.,  -7., -11., -13., -13.,   9., -16.],\n",
       "       [  2.,   1.,  -1.,   2., -15.,   4.,   3.,  11.],\n",
       "       [  2.,  -2.,   3.,  -4.,  -3.,   6.,  -4.,   0.],\n",
       "       [  5.,  -5.,   8.,  -7.,   5.,  -0.,   2.,  -9.],\n",
       "       [  0.,  -0.,   1.,  -1.,  -1.,   1.,  -0.,   1.],\n",
       "       [ -2.,   2.,  -3.,   3.,  -4.,   0.,   0.,   6.]])"
      ]
     },
     "execution_count": 29,
     "metadata": {},
     "output_type": "execute_result"
    }
   ],
   "source": [
    "np.rint(dct_result)"
   ]
  },
  {
   "cell_type": "code",
   "execution_count": null,
   "metadata": {},
   "outputs": [],
   "source": []
  }
 ],
 "metadata": {
  "kernelspec": {
   "display_name": "Python 3",
   "language": "python",
   "name": "python3"
  },
  "language_info": {
   "codemirror_mode": {
    "name": "ipython",
    "version": 3
   },
   "file_extension": ".py",
   "mimetype": "text/x-python",
   "name": "python",
   "nbconvert_exporter": "python",
   "pygments_lexer": "ipython3",
   "version": "3.9.1"
  },
  "orig_nbformat": 4,
  "vscode": {
   "interpreter": {
    "hash": "aee8b7b246df8f9039afb4144a1f6fd8d2ca17a180786b69acc140d282b71a49"
   }
  }
 },
 "nbformat": 4,
 "nbformat_minor": 2
}
